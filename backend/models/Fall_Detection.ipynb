{
  "cells": [
    {
      "cell_type": "markdown",
      "metadata": {
        "id": "cuP4A5B7oKFX"
      },
      "source": [
        "New Model\n",
        "\n"
      ]
    },
    {
      "cell_type": "code",
      "execution_count": 6,
      "metadata": {
        "colab": {
          "base_uri": "https://localhost:8080/"
        },
        "id": "gSVMZw7joOWT",
        "outputId": "2e4a342c-172f-46b0-aa04-e2b7aed09962"
      },
      "outputs": [
        {
          "output_type": "stream",
          "name": "stdout",
          "text": [
            "Dataset path: /kaggle/input/sisfall-enhanced\n",
            "Files in the dataset folder:\n",
            "['Three Classes', '.nfs000000000dc61838000001d2']\n"
          ]
        }
      ],
      "source": [
        "import os\n",
        "import kagglehub\n",
        "\n",
        "# Download (or get the existing path)\n",
        "dataset_path = kagglehub.dataset_download(\"nvnikhil0001/sisfall-enhanced\")\n",
        "print(\"Dataset path:\", dataset_path)\n",
        "\n",
        "# List all files/folders in that path\n",
        "print(\"Files in the dataset folder:\")\n",
        "print(os.listdir(dataset_path))\n"
      ]
    },
    {
      "cell_type": "code",
      "execution_count": 7,
      "metadata": {
        "colab": {
          "base_uri": "https://localhost:8080/"
        },
        "id": "i9cejXe5odle",
        "outputId": "cb0df2ca-9d06-42dd-c35b-208a7fadbb2c"
      },
      "outputs": [
        {
          "output_type": "stream",
          "name": "stdout",
          "text": [
            "\n",
            "Directory: /kaggle/input/sisfall-enhanced\n",
            " - .nfs000000000dc61838000001d2\n",
            "\n",
            "Directory: /kaggle/input/sisfall-enhanced/Three Classes\n",
            " - x_val_3\n",
            " - y_train_3\n",
            " - x_test_3\n",
            " - y_val_3\n",
            " - weights_3.txt\n",
            " - x_train_3\n",
            " - y_test_3\n"
          ]
        }
      ],
      "source": [
        "import os\n",
        "\n",
        "root_folder = \"/kaggle/input/sisfall-enhanced\"\n",
        "\n",
        "for dirpath, dirnames, filenames in os.walk(root_folder):\n",
        "    print(f\"\\nDirectory: {dirpath}\")\n",
        "    for file in filenames:\n",
        "        print(\" -\", file)\n"
      ]
    },
    {
      "cell_type": "code",
      "execution_count": 8,
      "metadata": {
        "colab": {
          "base_uri": "https://localhost:8080/"
        },
        "id": "nKGoN5m9oRF7",
        "outputId": "c9e5fc5a-2c1a-4d8e-ee26-f76be715a85e"
      },
      "outputs": [
        {
          "output_type": "stream",
          "name": "stdout",
          "text": [
            "Raw header bytes:\n",
            " b'bMy<\\x03\\xc1k\\xbe\\xc4\\xb0\\xbc<\\xef\"\\xfe\\xba5\\xd8\\xf3;\\xd1~U\\xbb\\xa6\\xdew<>\\xc2k\\xbe\\xe3\\x96\\xbb<\\x906\\x05\\xbb\\xd3\\x8e\\xf1;\\xac?T\\xbb\\xa4sv<W\\xc3k\\xbe\\xaaa\\xba<ng\\x0c\\xbb'\n"
          ]
        }
      ],
      "source": [
        "import os\n",
        "\n",
        "base_path = \"/kaggle/input/sisfall-enhanced/Three Classes\"  # or your actual path\n",
        "file_path = os.path.join(base_path, \"x_train_3\")\n",
        "\n",
        "with open(file_path, \"rb\") as f:\n",
        "    header = f.read(64)\n",
        "    print(\"Raw header bytes:\\n\", header)\n"
      ]
    },
    {
      "cell_type": "code",
      "execution_count": 11,
      "metadata": {
        "colab": {
          "base_uri": "https://localhost:8080/"
        },
        "id": "ius5S1kdpHAq",
        "outputId": "b67748fb-4899-4064-afd6-1ba1f286d966"
      },
      "outputs": [
        {
          "output_type": "stream",
          "name": "stdout",
          "text": [
            "Raw x_train shape: (119609856,)\n",
            "Sample: [ 0.0152162  -0.23022847  0.02303351 -0.00193891  0.00744155 -0.00325768\n",
            "  0.01512877 -0.23023316  0.0228991  -0.00203267  0.00737176 -0.00323866\n",
            "  0.01504222 -0.23023735  0.02275165 -0.0021424   0.00727622 -0.0032057\n",
            "  0.01495669 -0.23024072]\n"
          ]
        }
      ],
      "source": [
        "import numpy as np\n",
        "x_train = np.fromfile(os.path.join(base_path, \"x_train_3\"), dtype=np.float32)\n",
        "\n",
        "# Print a snippet to understand the shape\n",
        "print(\"Raw x_train shape:\", x_train.shape)\n",
        "print(\"Sample:\", x_train[:20])\n"
      ]
    },
    {
      "cell_type": "code",
      "execution_count": 13,
      "metadata": {
        "colab": {
          "base_uri": "https://localhost:8080/"
        },
        "id": "q1Ss13WipJ2W",
        "outputId": "e1a74ade-96d8-41c7-c609-43d96456c9e9"
      },
      "outputs": [
        {
          "output_type": "stream",
          "name": "stdout",
          "text": [
            "y_train shape: (58403,)\n",
            "Sample: [2.350989e-38 9.183550e-41 3.587324e-43 2.350989e-38 9.183550e-41\n",
            " 3.587324e-43 2.350989e-38 9.183550e-41 3.587324e-43 2.350989e-38]\n"
          ]
        }
      ],
      "source": [
        "y_train = np.fromfile(os.path.join(base_path, \"y_train_3\"), dtype=np.float32)\n",
        "print(\"y_train shape:\", y_train.shape)\n",
        "print(\"Sample:\", y_train[:10])\n"
      ]
    },
    {
      "cell_type": "code",
      "execution_count": 14,
      "metadata": {
        "colab": {
          "base_uri": "https://localhost:8080/"
        },
        "id": "3m89VG7SpPCc",
        "outputId": "c957e8ab-028d-478a-8843-8acfe7d10398"
      },
      "outputs": [
        {
          "output_type": "stream",
          "name": "stdout",
          "text": [
            "Expected: 119609344\n",
            "Actual: 119609856\n"
          ]
        }
      ],
      "source": [
        "num_samples = y_train.shape[0]\n",
        "time_steps = 2048\n",
        "num_features = 1\n",
        "\n",
        "expected_size = num_samples * time_steps * num_features\n",
        "actual_size = x_train.size\n",
        "\n",
        "print(\"Expected:\", expected_size)\n",
        "print(\"Actual:\", actual_size)\n"
      ]
    },
    {
      "cell_type": "code",
      "execution_count": 15,
      "metadata": {
        "colab": {
          "base_uri": "https://localhost:8080/"
        },
        "id": "YpEKBhUSpzzl",
        "outputId": "f6b72ce4-1df8-4df8-ae91-8e0de12ab27e"
      },
      "outputs": [
        {
          "output_type": "stream",
          "name": "stdout",
          "text": [
            "x_train shape: (58403, 2048, 1)\n"
          ]
        }
      ],
      "source": [
        "x_train = x_train[:119609344]  # Trim the excess\n",
        "x_train = x_train.reshape((58403, 2048, 1))  # Now reshape safely\n",
        "print(\"x_train shape:\", x_train.shape)\n"
      ]
    },
    {
      "cell_type": "code",
      "execution_count": 16,
      "metadata": {
        "colab": {
          "base_uri": "https://localhost:8080/"
        },
        "id": "43l288DRp-0Z",
        "outputId": "17e4ffca-e22f-4297-d53c-902f48545185"
      },
      "outputs": [
        {
          "output_type": "stream",
          "name": "stdout",
          "text": [
            "Unique classes in y_train: [0.0000000e+00 1.4012985e-45 3.5873241e-43 3.6013371e-43 9.1835496e-41\n",
            " 9.1836897e-41 9.2194229e-41 2.3509887e-38 2.3509890e-38 2.3510604e-38\n",
            " 2.3693558e-38]\n"
          ]
        }
      ],
      "source": [
        "import tensorflow as tf\n",
        "from sklearn.preprocessing import MinMaxScaler\n",
        "import numpy as np\n",
        "\n",
        "# Normalize x_train\n",
        "x_train = x_train / np.max(np.abs(x_train))  # or use scaler if needed\n",
        "\n",
        "# Check y_train\n",
        "print(\"Unique classes in y_train:\", np.unique(y_train))\n"
      ]
    },
    {
      "cell_type": "code",
      "execution_count": 17,
      "metadata": {
        "colab": {
          "base_uri": "https://localhost:8080/"
        },
        "id": "jBEl7V17qCxN",
        "outputId": "6fe9687d-e551-479f-e498-675a4bdf416e"
      },
      "outputs": [
        {
          "output_type": "stream",
          "name": "stdout",
          "text": [
            "Trying shape: (58403, 1)\n"
          ]
        }
      ],
      "source": [
        "for i in range(1, 10):\n",
        "    if y_train.size % i == 0:\n",
        "        print(f\"Trying shape: ({y_train.size // i}, {i})\")\n"
      ]
    },
    {
      "cell_type": "code",
      "execution_count": 18,
      "metadata": {
        "colab": {
          "base_uri": "https://localhost:8080/"
        },
        "id": "H3JR-K3aqP8c",
        "outputId": "c046e686-a446-44f9-db76-f72cf17057a1"
      },
      "outputs": [
        {
          "output_type": "stream",
          "name": "stdout",
          "text": [
            "Raw y_train shape: (58403,)\n",
            "Sample values: [2.3509890e-38 9.1835496e-41 3.5873241e-43 2.3509890e-38 9.1835496e-41\n",
            " 3.5873241e-43 2.3509890e-38 9.1835496e-41 3.5873241e-43 2.3509890e-38\n",
            " 9.1835496e-41 3.5873241e-43 2.3509890e-38 9.1835496e-41 3.5873241e-43\n",
            " 2.3510604e-38 9.1835496e-41 3.5873241e-43 2.3509890e-38 9.1835496e-41]\n",
            "Unique values: [0.0000000e+00 1.4012985e-45 3.5873241e-43 3.6013371e-43 9.1835496e-41\n",
            " 9.1836897e-41 9.2194229e-41 2.3509887e-38 2.3509890e-38 2.3510604e-38\n",
            " 2.3693558e-38]\n"
          ]
        }
      ],
      "source": [
        "import os\n",
        "import numpy as np\n",
        "\n",
        "base_path = \"/kaggle/input/sisfall-enhanced/Three Classes\"\n",
        "y_train_path = os.path.join(base_path, \"y_train_3\")\n",
        "\n",
        "# Try loading as binary float32 (since values were very small earlier)\n",
        "y_train_raw = np.fromfile(y_train_path, dtype=np.float32)\n",
        "\n",
        "print(\"Raw y_train shape:\", y_train_raw.shape)\n",
        "print(\"Sample values:\", y_train_raw[:20])\n",
        "print(\"Unique values:\", np.unique(y_train_raw))\n"
      ]
    },
    {
      "cell_type": "code",
      "execution_count": 19,
      "metadata": {
        "colab": {
          "base_uri": "https://localhost:8080/"
        },
        "id": "Xj02NhWZqcPy",
        "outputId": "2689e0eb-0441-4c1d-e546-44eeba1f45b5"
      },
      "outputs": [
        {
          "output_type": "stream",
          "name": "stdout",
          "text": [
            "y_train_labels shape: (19467,)\n",
            "Sample class labels: [0 0 0 0 0 0 0 0 0 0]\n",
            "Unique class labels: [0 1 2]\n"
          ]
        }
      ],
      "source": [
        "# Remove the extra elements so it's divisible by 3\n",
        "trimmed_len = (y_train_raw.size // 3) * 3\n",
        "y_train_trimmed = y_train_raw[:trimmed_len]\n",
        "\n",
        "# Reshape and convert\n",
        "y_train_reshaped = y_train_trimmed.reshape(-1, 3)\n",
        "y_train_labels = np.argmax(y_train_reshaped, axis=1)\n",
        "\n",
        "# Sanity check\n",
        "print(\"y_train_labels shape:\", y_train_labels.shape)\n",
        "print(\"Sample class labels:\", y_train_labels[:10])\n",
        "print(\"Unique class labels:\", np.unique(y_train_labels))\n"
      ]
    },
    {
      "cell_type": "code",
      "execution_count": 20,
      "metadata": {
        "id": "0iJAEA3vqq7H"
      },
      "outputs": [],
      "source": [
        "x_train = np.fromfile(\"/kaggle/input/sisfall-enhanced/Three Classes/x_train_3\", dtype=np.float32)\n"
      ]
    },
    {
      "cell_type": "code",
      "execution_count": 21,
      "metadata": {
        "id": "EU5jcKP4qx_v"
      },
      "outputs": [],
      "source": [
        "x_train_raw = x_train  # rename for clarity\n"
      ]
    },
    {
      "cell_type": "code",
      "execution_count": 22,
      "metadata": {
        "colab": {
          "base_uri": "https://localhost:8080/"
        },
        "id": "MJREndkQqz_9",
        "outputId": "b1e4f8b4-4a87-4508-ffde-67a40452859b"
      },
      "outputs": [
        {
          "output_type": "stream",
          "name": "stdout",
          "text": [
            "Expected x_train size: 318947328\n",
            "Actual x_train size: 119609856\n"
          ]
        }
      ],
      "source": [
        "expected_size = 19467 * 2048 * 8\n",
        "print(\"Expected x_train size:\", expected_size)\n",
        "print(\"Actual x_train size:\", x_train_raw.size)\n"
      ]
    },
    {
      "cell_type": "code",
      "execution_count": 23,
      "metadata": {
        "colab": {
          "base_uri": "https://localhost:8080/"
        },
        "id": "mrhkbWgZrPqC",
        "outputId": "5b24c4ac-0c6c-4c07-b709-558ae5914635"
      },
      "outputs": [
        {
          "output_type": "stream",
          "name": "stdout",
          "text": [
            "Possible (time_steps, features): [(1, 6144), (2, 3072), (3, 2048), (4, 1536), (6, 1024), (8, 768), (12, 512), (16, 384), (24, 256), (32, 192), (48, 128), (64, 96)]\n"
          ]
        }
      ],
      "source": [
        "import math\n",
        "\n",
        "total_samples = 19467\n",
        "total_size = x_train_raw.size\n",
        "\n",
        "# Find factors of (total_size / total_samples)\n",
        "possible_shapes = []\n",
        "per_sample_size = total_size // total_samples\n",
        "\n",
        "for i in range(1, int(math.sqrt(per_sample_size)) + 1):\n",
        "    if per_sample_size % i == 0:\n",
        "        time_steps = i\n",
        "        features = per_sample_size // i\n",
        "        possible_shapes.append((time_steps, features))\n",
        "\n",
        "print(\"Possible (time_steps, features):\", possible_shapes)\n"
      ]
    },
    {
      "cell_type": "code",
      "execution_count": 24,
      "metadata": {
        "colab": {
          "base_uri": "https://localhost:8080/"
        },
        "id": "BstBURhAruVz",
        "outputId": "12b6f11a-d2ef-4da0-81e7-0b94c5bd5bc4"
      },
      "outputs": [
        {
          "output_type": "stream",
          "name": "stdout",
          "text": [
            "Detected features per step: 3\n",
            "x_train shape: (19467, 2048, 3)\n"
          ]
        }
      ],
      "source": [
        "total_values = x_train_raw.size\n",
        "samples = 19467\n",
        "time_steps = 2048\n",
        "\n",
        "features = total_values // (samples * time_steps)\n",
        "print(\"Detected features per step:\", features)\n",
        "\n",
        "# Now try reshaping\n",
        "x_train = x_train_raw[:samples * time_steps * features].reshape((samples, time_steps, features))\n",
        "print(\"x_train shape:\", x_train.shape)\n"
      ]
    },
    {
      "cell_type": "code",
      "execution_count": 25,
      "metadata": {
        "colab": {
          "base_uri": "https://localhost:8080/",
          "height": 644
        },
        "id": "92v52Ib6sOKo",
        "outputId": "fa3cc2e0-6142-452b-c72a-70f2701d3ede"
      },
      "outputs": [
        {
          "metadata": {
            "tags": null
          },
          "name": "stderr",
          "output_type": "stream",
          "text": [
            "/usr/local/lib/python3.11/dist-packages/keras/src/layers/rnn/rnn.py:200: UserWarning: Do not pass an `input_shape`/`input_dim` argument to a layer. When using Sequential models, prefer using an `Input(shape)` object as the first layer in the model instead.\n",
            "  super().__init__(**kwargs)\n"
          ]
        },
        {
          "data": {
            "text/html": [
              "<pre style=\"white-space:pre;overflow-x:auto;line-height:normal;font-family:Menlo,'DejaVu Sans Mono',consolas,'Courier New',monospace\"><span style=\"font-weight: bold\">Model: \"sequential\"</span>\n",
              "</pre>\n"
            ],
            "text/plain": [
              "\u001b[1mModel: \"sequential\"\u001b[0m\n"
            ]
          },
          "metadata": {},
          "output_type": "display_data"
        },
        {
          "data": {
            "text/html": [
              "<pre style=\"white-space:pre;overflow-x:auto;line-height:normal;font-family:Menlo,'DejaVu Sans Mono',consolas,'Courier New',monospace\">┏━━━━━━━━━━━━━━━━━━━━━━━━━━━━━━━━━┳━━━━━━━━━━━━━━━━━━━━━━━━┳━━━━━━━━━━━━━━━┓\n",
              "┃<span style=\"font-weight: bold\"> Layer (type)                    </span>┃<span style=\"font-weight: bold\"> Output Shape           </span>┃<span style=\"font-weight: bold\">       Param # </span>┃\n",
              "┡━━━━━━━━━━━━━━━━━━━━━━━━━━━━━━━━━╇━━━━━━━━━━━━━━━━━━━━━━━━╇━━━━━━━━━━━━━━━┩\n",
              "│ lstm (<span style=\"color: #0087ff; text-decoration-color: #0087ff\">LSTM</span>)                     │ (<span style=\"color: #00d7ff; text-decoration-color: #00d7ff\">None</span>, <span style=\"color: #00af00; text-decoration-color: #00af00\">64</span>)             │        <span style=\"color: #00af00; text-decoration-color: #00af00\">17,408</span> │\n",
              "├─────────────────────────────────┼────────────────────────┼───────────────┤\n",
              "│ dense (<span style=\"color: #0087ff; text-decoration-color: #0087ff\">Dense</span>)                   │ (<span style=\"color: #00d7ff; text-decoration-color: #00d7ff\">None</span>, <span style=\"color: #00af00; text-decoration-color: #00af00\">64</span>)             │         <span style=\"color: #00af00; text-decoration-color: #00af00\">4,160</span> │\n",
              "├─────────────────────────────────┼────────────────────────┼───────────────┤\n",
              "│ dense_1 (<span style=\"color: #0087ff; text-decoration-color: #0087ff\">Dense</span>)                 │ (<span style=\"color: #00d7ff; text-decoration-color: #00d7ff\">None</span>, <span style=\"color: #00af00; text-decoration-color: #00af00\">3</span>)              │           <span style=\"color: #00af00; text-decoration-color: #00af00\">195</span> │\n",
              "└─────────────────────────────────┴────────────────────────┴───────────────┘\n",
              "</pre>\n"
            ],
            "text/plain": [
              "┏━━━━━━━━━━━━━━━━━━━━━━━━━━━━━━━━━┳━━━━━━━━━━━━━━━━━━━━━━━━┳━━━━━━━━━━━━━━━┓\n",
              "┃\u001b[1m \u001b[0m\u001b[1mLayer (type)                   \u001b[0m\u001b[1m \u001b[0m┃\u001b[1m \u001b[0m\u001b[1mOutput Shape          \u001b[0m\u001b[1m \u001b[0m┃\u001b[1m \u001b[0m\u001b[1m      Param #\u001b[0m\u001b[1m \u001b[0m┃\n",
              "┡━━━━━━━━━━━━━━━━━━━━━━━━━━━━━━━━━╇━━━━━━━━━━━━━━━━━━━━━━━━╇━━━━━━━━━━━━━━━┩\n",
              "│ lstm (\u001b[38;5;33mLSTM\u001b[0m)                     │ (\u001b[38;5;45mNone\u001b[0m, \u001b[38;5;34m64\u001b[0m)             │        \u001b[38;5;34m17,408\u001b[0m │\n",
              "├─────────────────────────────────┼────────────────────────┼───────────────┤\n",
              "│ dense (\u001b[38;5;33mDense\u001b[0m)                   │ (\u001b[38;5;45mNone\u001b[0m, \u001b[38;5;34m64\u001b[0m)             │         \u001b[38;5;34m4,160\u001b[0m │\n",
              "├─────────────────────────────────┼────────────────────────┼───────────────┤\n",
              "│ dense_1 (\u001b[38;5;33mDense\u001b[0m)                 │ (\u001b[38;5;45mNone\u001b[0m, \u001b[38;5;34m3\u001b[0m)              │           \u001b[38;5;34m195\u001b[0m │\n",
              "└─────────────────────────────────┴────────────────────────┴───────────────┘\n"
            ]
          },
          "metadata": {},
          "output_type": "display_data"
        },
        {
          "data": {
            "text/html": [
              "<pre style=\"white-space:pre;overflow-x:auto;line-height:normal;font-family:Menlo,'DejaVu Sans Mono',consolas,'Courier New',monospace\"><span style=\"font-weight: bold\"> Total params: </span><span style=\"color: #00af00; text-decoration-color: #00af00\">21,763</span> (85.01 KB)\n",
              "</pre>\n"
            ],
            "text/plain": [
              "\u001b[1m Total params: \u001b[0m\u001b[38;5;34m21,763\u001b[0m (85.01 KB)\n"
            ]
          },
          "metadata": {},
          "output_type": "display_data"
        },
        {
          "data": {
            "text/html": [
              "<pre style=\"white-space:pre;overflow-x:auto;line-height:normal;font-family:Menlo,'DejaVu Sans Mono',consolas,'Courier New',monospace\"><span style=\"font-weight: bold\"> Trainable params: </span><span style=\"color: #00af00; text-decoration-color: #00af00\">21,763</span> (85.01 KB)\n",
              "</pre>\n"
            ],
            "text/plain": [
              "\u001b[1m Trainable params: \u001b[0m\u001b[38;5;34m21,763\u001b[0m (85.01 KB)\n"
            ]
          },
          "metadata": {},
          "output_type": "display_data"
        },
        {
          "data": {
            "text/html": [
              "<pre style=\"white-space:pre;overflow-x:auto;line-height:normal;font-family:Menlo,'DejaVu Sans Mono',consolas,'Courier New',monospace\"><span style=\"font-weight: bold\"> Non-trainable params: </span><span style=\"color: #00af00; text-decoration-color: #00af00\">0</span> (0.00 B)\n",
              "</pre>\n"
            ],
            "text/plain": [
              "\u001b[1m Non-trainable params: \u001b[0m\u001b[38;5;34m0\u001b[0m (0.00 B)\n"
            ]
          },
          "metadata": {},
          "output_type": "display_data"
        },
        {
          "output_type": "stream",
          "name": "stdout",
          "text": [
            "Epoch 1/10\n",
            "\u001b[1m487/487\u001b[0m \u001b[32m━━━━━━━━━━━━━━━━━━━━\u001b[0m\u001b[37m\u001b[0m \u001b[1m414s\u001b[0m 844ms/step - accuracy: 0.9608 - loss: 0.2605 - val_accuracy: 0.9648 - val_loss: 0.1640\n",
            "Epoch 2/10\n",
            "\u001b[1m487/487\u001b[0m \u001b[32m━━━━━━━━━━━━━━━━━━━━\u001b[0m\u001b[37m\u001b[0m \u001b[1m437s\u001b[0m 833ms/step - accuracy: 0.9619 - loss: 0.1698 - val_accuracy: 0.9648 - val_loss: 0.1609\n",
            "Epoch 3/10\n",
            "\u001b[1m487/487\u001b[0m \u001b[32m━━━━━━━━━━━━━━━━━━━━\u001b[0m\u001b[37m\u001b[0m \u001b[1m451s\u001b[0m 852ms/step - accuracy: 0.9599 - loss: 0.1755 - val_accuracy: 0.9648 - val_loss: 0.1609\n",
            "Epoch 4/10\n",
            "\u001b[1m487/487\u001b[0m \u001b[32m━━━━━━━━━━━━━━━━━━━━\u001b[0m\u001b[37m\u001b[0m \u001b[1m416s\u001b[0m 854ms/step - accuracy: 0.9618 - loss: 0.1687 - val_accuracy: 0.9648 - val_loss: 0.1613\n",
            "Epoch 5/10\n",
            "\u001b[1m487/487\u001b[0m \u001b[32m━━━━━━━━━━━━━━━━━━━━\u001b[0m\u001b[37m\u001b[0m \u001b[1m435s\u001b[0m 841ms/step - accuracy: 0.9640 - loss: 0.1606 - val_accuracy: 0.9648 - val_loss: 0.1615\n",
            "Epoch 6/10\n",
            "\u001b[1m487/487\u001b[0m \u001b[32m━━━━━━━━━━━━━━━━━━━━\u001b[0m\u001b[37m\u001b[0m \u001b[1m410s\u001b[0m 841ms/step - accuracy: 0.9620 - loss: 0.1695 - val_accuracy: 0.9648 - val_loss: 0.1612\n",
            "Epoch 7/10\n",
            "\u001b[1m487/487\u001b[0m \u001b[32m━━━━━━━━━━━━━━━━━━━━\u001b[0m\u001b[37m\u001b[0m \u001b[1m439s\u001b[0m 835ms/step - accuracy: 0.9646 - loss: 0.1605 - val_accuracy: 0.9648 - val_loss: 0.1624\n",
            "Epoch 8/10\n",
            "\u001b[1m487/487\u001b[0m \u001b[32m━━━━━━━━━━━━━━━━━━━━\u001b[0m\u001b[37m\u001b[0m \u001b[1m414s\u001b[0m 850ms/step - accuracy: 0.9628 - loss: 0.1686 - val_accuracy: 0.9648 - val_loss: 0.1639\n",
            "Epoch 9/10\n",
            "\u001b[1m487/487\u001b[0m \u001b[32m━━━━━━━━━━━━━━━━━━━━\u001b[0m\u001b[37m\u001b[0m \u001b[1m437s\u001b[0m 840ms/step - accuracy: 0.9604 - loss: 0.1742 - val_accuracy: 0.9648 - val_loss: 0.1652\n",
            "Epoch 10/10\n",
            "\u001b[1m487/487\u001b[0m \u001b[32m━━━━━━━━━━━━━━━━━━━━\u001b[0m\u001b[37m\u001b[0m \u001b[1m437s\u001b[0m 831ms/step - accuracy: 0.9615 - loss: 0.1708 - val_accuracy: 0.9648 - val_loss: 0.1614\n"
          ]
        },
        {
          "output_type": "execute_result",
          "data": {
            "text/plain": [
              "<keras.src.callbacks.history.History at 0x78bf7fe77750>"
            ]
          },
          "metadata": {},
          "execution_count": 25
        }
      ],
      "source": [
        "from tensorflow.keras.models import Sequential\n",
        "from tensorflow.keras.layers import LSTM, Dense\n",
        "\n",
        "model = Sequential([\n",
        "    LSTM(64, input_shape=(2048, 3)),\n",
        "    Dense(64, activation='relu'),\n",
        "    Dense(3, activation='softmax')\n",
        "])\n",
        "\n",
        "model.compile(optimizer='adam', loss='sparse_categorical_crossentropy', metrics=['accuracy'])\n",
        "model.summary()\n",
        "\n",
        "# Train the model\n",
        "model.fit(x_train, y_train_labels, epochs=10, batch_size=32, validation_split=0.2)\n"
      ]
    },
    {
      "cell_type": "code",
      "execution_count": null,
      "metadata": {
        "id": "zMGATVc6rZnW"
      },
      "outputs": [],
      "source": [
        "from sklearn.model_selection import train_test_split\n",
        "\n",
        "# Split data\n",
        "x_train_final, x_temp, y_train_final, y_temp = train_test_split(\n",
        "    x_train, y_train_labels, test_size=0.3, random_state=42)\n",
        "\n",
        "x_val, x_test, y_val, y_test = train_test_split(\n",
        "    x_temp, y_temp, test_size=0.5, random_state=42)\n"
      ]
    },
    {
      "cell_type": "code",
      "source": [
        "print(x_val.shape)\n",
        "print(x_val.size)  # This should be 31077888\n"
      ],
      "metadata": {
        "colab": {
          "base_uri": "https://localhost:8080/"
        },
        "id": "vLuf9fA20JOs",
        "outputId": "fcd5ca97-e873-4ce2-dd1a-e7b345b16d0d"
      },
      "execution_count": 27,
      "outputs": [
        {
          "output_type": "stream",
          "name": "stdout",
          "text": [
            "(31077888,)\n",
            "31077888\n"
          ]
        }
      ]
    },
    {
      "cell_type": "code",
      "source": [
        "n_samples = x_val.size // (2048 * 3)  # Should be 5057\n"
      ],
      "metadata": {
        "id": "7L4T_mV80Mx6"
      },
      "execution_count": 28,
      "outputs": []
    },
    {
      "cell_type": "code",
      "source": [
        "import numpy as np\n",
        "\n",
        "# Trim x_val to be a multiple of 2048*3 = 6144\n",
        "usable_vals = (x_val.size // 6144) * 6144\n",
        "x_val_trimmed = x_val[:usable_vals]\n",
        "x_val_reshaped = x_val_trimmed.reshape(-1, 2048, 3)\n",
        "\n",
        "# Do the same for x_test\n",
        "usable_test = (x_test.size // 6144) * 6144\n",
        "x_test_trimmed = x_test[:usable_test]\n",
        "x_test_reshaped = x_test_trimmed.reshape(-1, 2048, 3)\n"
      ],
      "metadata": {
        "id": "Glbjm0bP0ftp"
      },
      "execution_count": 35,
      "outputs": []
    },
    {
      "cell_type": "code",
      "execution_count": 37,
      "metadata": {
        "colab": {
          "base_uri": "https://localhost:8080/"
        },
        "id": "ZzRxStBLb9Ao",
        "outputId": "84d39860-4ff5-43bf-dddb-3f79f0110e32"
      },
      "outputs": [
        {
          "output_type": "stream",
          "name": "stdout",
          "text": [
            "x_val: (5058, 2048, 3) y_val: (5058,)\n",
            "x_test: (4721, 2048, 3) y_test: (4721,)\n"
          ]
        }
      ],
      "source": [
        "# Load x_val and x_test\n",
        "import numpy as np\n",
        "import os\n",
        "\n",
        "x_val = np.fromfile(os.path.join(base_path, \"x_val_3\"), dtype=np.float32)\n",
        "x_test = np.fromfile(os.path.join(base_path, \"x_test_3\"), dtype=np.float32)\n",
        "\n",
        "# Trim to make divisible by 2048 * 3\n",
        "x_val = x_val[:(x_val.size // 6144) * 6144]\n",
        "x_test = x_test[:(x_test.size // 6144) * 6144]\n",
        "\n",
        "# Reshape\n",
        "x_val = x_val.reshape((-1, 2048, 3))\n",
        "x_test = x_test.reshape((-1, 2048, 3))\n",
        "\n",
        "# Normalize\n",
        "x_val = x_val / np.max(np.abs(x_val))\n",
        "x_test = x_test / np.max(np.abs(x_test))\n",
        "\n",
        "# Load y_val and y_test\n",
        "y_val_raw = np.fromfile(os.path.join(base_path, \"y_val_3\"), dtype=np.float32)\n",
        "y_test_raw = np.fromfile(os.path.join(base_path, \"y_test_3\"), dtype=np.float32)\n",
        "\n",
        "# Process labels: reshape and argmax\n",
        "y_val = np.argmax(y_val_raw.reshape(-1, 3), axis=1)\n",
        "y_test = np.argmax(y_test_raw.reshape(-1, 3), axis=1)\n",
        "\n",
        "# Sanity check\n",
        "print(\"x_val:\", x_val.shape, \"y_val:\", y_val.shape)\n",
        "print(\"x_test:\", x_test.shape, \"y_test:\", y_test.shape)\n"
      ]
    },
    {
      "cell_type": "code",
      "source": [
        "x_val = x_val[:n_samples * 2048 * 3].reshape((n_samples, 2048, 3))\n"
      ],
      "metadata": {
        "id": "E-pAMNKn0SN0"
      },
      "execution_count": 29,
      "outputs": []
    },
    {
      "cell_type": "code",
      "execution_count": 38,
      "metadata": {
        "colab": {
          "base_uri": "https://localhost:8080/"
        },
        "id": "Y-b1iFlHcCi0",
        "outputId": "cbc098e4-c3ac-40bc-f1a6-38b7fba12c1a"
      },
      "outputs": [
        {
          "output_type": "stream",
          "name": "stdout",
          "text": [
            "Epoch 1/10\n",
            "\u001b[1m305/305\u001b[0m \u001b[32m━━━━━━━━━━━━━━━━━━━━\u001b[0m\u001b[37m\u001b[0m \u001b[1m356s\u001b[0m 1s/step - accuracy: 0.9611 - loss: 0.1711 - val_accuracy: 0.9611 - val_loss: 0.1736\n",
            "Epoch 2/10\n",
            "\u001b[1m305/305\u001b[0m \u001b[32m━━━━━━━━━━━━━━━━━━━━\u001b[0m\u001b[37m\u001b[0m \u001b[1m382s\u001b[0m 1s/step - accuracy: 0.9624 - loss: 0.1672 - val_accuracy: 0.9611 - val_loss: 0.1745\n",
            "Epoch 3/10\n",
            "\u001b[1m305/305\u001b[0m \u001b[32m━━━━━━━━━━━━━━━━━━━━\u001b[0m\u001b[37m\u001b[0m \u001b[1m380s\u001b[0m 1s/step - accuracy: 0.9596 - loss: 0.1769 - val_accuracy: 0.9611 - val_loss: 0.1740\n",
            "Epoch 4/10\n",
            "\u001b[1m305/305\u001b[0m \u001b[32m━━━━━━━━━━━━━━━━━━━━\u001b[0m\u001b[37m\u001b[0m \u001b[1m384s\u001b[0m 1s/step - accuracy: 0.9606 - loss: 0.1719 - val_accuracy: 0.9611 - val_loss: 0.1761\n",
            "Epoch 5/10\n",
            "\u001b[1m305/305\u001b[0m \u001b[32m━━━━━━━━━━━━━━━━━━━━\u001b[0m\u001b[37m\u001b[0m \u001b[1m380s\u001b[0m 1s/step - accuracy: 0.9607 - loss: 0.1717 - val_accuracy: 0.9611 - val_loss: 0.1740\n",
            "Epoch 6/10\n",
            "\u001b[1m305/305\u001b[0m \u001b[32m━━━━━━━━━━━━━━━━━━━━\u001b[0m\u001b[37m\u001b[0m \u001b[1m402s\u001b[0m 1s/step - accuracy: 0.9638 - loss: 0.1632 - val_accuracy: 0.9611 - val_loss: 0.1737\n",
            "Epoch 7/10\n",
            "\u001b[1m305/305\u001b[0m \u001b[32m━━━━━━━━━━━━━━━━━━━━\u001b[0m\u001b[37m\u001b[0m \u001b[1m355s\u001b[0m 1s/step - accuracy: 0.9655 - loss: 0.1554 - val_accuracy: 0.9611 - val_loss: 0.1737\n",
            "Epoch 8/10\n",
            "\u001b[1m305/305\u001b[0m \u001b[32m━━━━━━━━━━━━━━━━━━━━\u001b[0m\u001b[37m\u001b[0m \u001b[1m382s\u001b[0m 1s/step - accuracy: 0.9615 - loss: 0.1705 - val_accuracy: 0.9611 - val_loss: 0.1738\n",
            "Epoch 9/10\n",
            "\u001b[1m305/305\u001b[0m \u001b[32m━━━━━━━━━━━━━━━━━━━━\u001b[0m\u001b[37m\u001b[0m \u001b[1m375s\u001b[0m 1s/step - accuracy: 0.9596 - loss: 0.1767 - val_accuracy: 0.9611 - val_loss: 0.1736\n",
            "Epoch 10/10\n",
            "\u001b[1m305/305\u001b[0m \u001b[32m━━━━━━━━━━━━━━━━━━━━\u001b[0m\u001b[37m\u001b[0m \u001b[1m393s\u001b[0m 1s/step - accuracy: 0.9599 - loss: 0.1754 - val_accuracy: 0.9611 - val_loss: 0.1739\n"
          ]
        }
      ],
      "source": [
        "# Train the model\n",
        "history = model.fit(\n",
        "    x_train, y_train_labels,\n",
        "    validation_data=(x_val, y_val),\n",
        "    epochs=10,  # You can increase this if needed\n",
        "    batch_size=64\n",
        ")\n"
      ]
    },
    {
      "cell_type": "code",
      "execution_count": 39,
      "metadata": {
        "colab": {
          "base_uri": "https://localhost:8080/"
        },
        "id": "BB2SN4wvcEs4",
        "outputId": "4eac8c8a-e767-4d5a-f69e-51ca331212aa"
      },
      "outputs": [
        {
          "output_type": "stream",
          "name": "stdout",
          "text": [
            "\u001b[1m148/148\u001b[0m \u001b[32m━━━━━━━━━━━━━━━━━━━━\u001b[0m\u001b[37m\u001b[0m \u001b[1m39s\u001b[0m 263ms/step - accuracy: 0.9718 - loss: 0.1640\n",
            "Test Accuracy: 0.9639906883239746\n"
          ]
        }
      ],
      "source": [
        "# Evaluate on test set\n",
        "test_loss, test_accuracy = model.evaluate(x_test, y_test)\n",
        "print(\"Test Accuracy:\", test_accuracy)\n"
      ]
    },
    {
      "cell_type": "code",
      "source": [
        "from sklearn.metrics import classification_report, confusion_matrix, accuracy_score\n",
        "import seaborn as sns\n",
        "import matplotlib.pyplot as plt\n",
        "\n",
        "# Predict on validation and test sets\n",
        "y_val_pred_probs = model.predict(x_val)\n",
        "y_test_pred_probs = model.predict(x_test)\n",
        "\n",
        "# Get predicted class labels\n",
        "y_val_preds = np.argmax(y_val_pred_probs, axis=1)\n",
        "y_test_preds = np.argmax(y_test_pred_probs, axis=1)\n",
        "\n",
        "print(\"📊 Validation Metrics:\")\n",
        "print(\"Accuracy:\", accuracy_score(y_val, y_val_preds))\n",
        "print(\"\\nClassification Report:\\n\", classification_report(y_val, y_val_preds))\n",
        "print(\"\\nConfusion Matrix:\")\n",
        "val_cm = confusion_matrix(y_val, y_val_preds)\n",
        "sns.heatmap(val_cm, annot=True, fmt='d', cmap='Blues')\n",
        "plt.title(\"Validation Confusion Matrix\")\n",
        "plt.xlabel(\"Predicted\")\n",
        "plt.ylabel(\"Actual\")\n",
        "plt.show()\n",
        "\n",
        "print(\"\\n\\n📊 Test Metrics:\")\n",
        "print(\"Accuracy:\", accuracy_score(y_test, y_test_preds))\n",
        "print(\"\\nClassification Report:\\n\", classification_report(y_test, y_test_preds))\n",
        "print(\"\\nConfusion Matrix:\")\n",
        "test_cm = confusion_matrix(y_test, y_test_preds)\n",
        "sns.heatmap(test_cm, annot=True, fmt='d', cmap='Greens')\n",
        "plt.title(\"Test Confusion Matrix\")\n",
        "plt.xlabel(\"Predicted\")\n",
        "plt.ylabel(\"Actual\")\n",
        "plt.show()\n"
      ],
      "metadata": {
        "colab": {
          "base_uri": "https://localhost:8080/",
          "height": 1000
        },
        "id": "qVOVlQvt9EjQ",
        "outputId": "c23fae82-9472-4b35-e4f5-5bf738050e80"
      },
      "execution_count": 40,
      "outputs": [
        {
          "output_type": "stream",
          "name": "stdout",
          "text": [
            "\u001b[1m159/159\u001b[0m \u001b[32m━━━━━━━━━━━━━━━━━━━━\u001b[0m\u001b[37m\u001b[0m \u001b[1m41s\u001b[0m 257ms/step\n",
            "\u001b[1m148/148\u001b[0m \u001b[32m━━━━━━━━━━━━━━━━━━━━\u001b[0m\u001b[37m\u001b[0m \u001b[1m39s\u001b[0m 262ms/step\n",
            "📊 Validation Metrics:\n",
            "Accuracy: 0.961051799130091\n",
            "\n",
            "Classification Report:\n",
            "               precision    recall  f1-score   support\n",
            "\n",
            "           0       0.96      1.00      0.98      4861\n",
            "           1       0.00      0.00      0.00       185\n",
            "           2       0.00      0.00      0.00        12\n",
            "\n",
            "    accuracy                           0.96      5058\n",
            "   macro avg       0.32      0.33      0.33      5058\n",
            "weighted avg       0.92      0.96      0.94      5058\n",
            "\n",
            "\n",
            "Confusion Matrix:\n"
          ]
        },
        {
          "output_type": "stream",
          "name": "stderr",
          "text": [
            "/usr/local/lib/python3.11/dist-packages/sklearn/metrics/_classification.py:1565: UndefinedMetricWarning: Precision is ill-defined and being set to 0.0 in labels with no predicted samples. Use `zero_division` parameter to control this behavior.\n",
            "  _warn_prf(average, modifier, f\"{metric.capitalize()} is\", len(result))\n",
            "/usr/local/lib/python3.11/dist-packages/sklearn/metrics/_classification.py:1565: UndefinedMetricWarning: Precision is ill-defined and being set to 0.0 in labels with no predicted samples. Use `zero_division` parameter to control this behavior.\n",
            "  _warn_prf(average, modifier, f\"{metric.capitalize()} is\", len(result))\n",
            "/usr/local/lib/python3.11/dist-packages/sklearn/metrics/_classification.py:1565: UndefinedMetricWarning: Precision is ill-defined and being set to 0.0 in labels with no predicted samples. Use `zero_division` parameter to control this behavior.\n",
            "  _warn_prf(average, modifier, f\"{metric.capitalize()} is\", len(result))\n"
          ]
        },
        {
          "output_type": "display_data",
          "data": {
            "text/plain": [
              "<Figure size 640x480 with 2 Axes>"
            ],
            "image/png": "[encoded data removed]"
          },
          "metadata": {}
        },
        {
          "output_type": "stream",
          "name": "stdout",
          "text": [
            "\n",
            "\n",
            "📊 Test Metrics:\n",
            "Accuracy: 0.9639906799406905\n",
            "\n",
            "Classification Report:\n",
            "               precision    recall  f1-score   support\n",
            "\n",
            "           0       0.96      1.00      0.98      4551\n",
            "           1       0.00      0.00      0.00       105\n",
            "           2       0.00      0.00      0.00        65\n",
            "\n",
            "    accuracy                           0.96      4721\n",
            "   macro avg       0.32      0.33      0.33      4721\n",
            "weighted avg       0.93      0.96      0.95      4721\n",
            "\n",
            "\n",
            "Confusion Matrix:\n"
          ]
        },
        {
          "output_type": "stream",
          "name": "stderr",
          "text": [
            "/usr/local/lib/python3.11/dist-packages/sklearn/metrics/_classification.py:1565: UndefinedMetricWarning: Precision is ill-defined and being set to 0.0 in labels with no predicted samples. Use `zero_division` parameter to control this behavior.\n",
            "  _warn_prf(average, modifier, f\"{metric.capitalize()} is\", len(result))\n",
            "/usr/local/lib/python3.11/dist-packages/sklearn/metrics/_classification.py:1565: UndefinedMetricWarning: Precision is ill-defined and being set to 0.0 in labels with no predicted samples. Use `zero_division` parameter to control this behavior.\n",
            "  _warn_prf(average, modifier, f\"{metric.capitalize()} is\", len(result))\n",
            "/usr/local/lib/python3.11/dist-packages/sklearn/metrics/_classification.py:1565: UndefinedMetricWarning: Precision is ill-defined and being set to 0.0 in labels with no predicted samples. Use `zero_division` parameter to control this behavior.\n",
            "  _warn_prf(average, modifier, f\"{metric.capitalize()} is\", len(result))\n"
          ]
        },
        {
          "output_type": "display_data",
          "data": {
            "text/plain": [
              "<Figure size 640x480 with 2 Axes>"
            ],
            "image/png": "[encoded data removed]"
          },
          "metadata": {}
        }
      ]
    },
    {
      "cell_type": "code",
      "execution_count": 46,
      "metadata": {
        "colab": {
          "base_uri": "https://localhost:8080/"
        },
        "id": "IVDZ6wxLU9r2",
        "outputId": "4f921bf1-3966-4a89-fc3e-37d380579130"
      },
      "outputs": [
        {
          "output_type": "stream",
          "name": "stderr",
          "text": [
            "WARNING:absl:You are saving your model as an HDF5 file via `model.save()` or `keras.saving.save_model(model)`. This file format is considered legacy. We recommend using instead the native Keras format, e.g. `model.save('my_model.keras')` or `keras.saving.save_model(model, 'my_model.keras')`. \n"
          ]
        }
      ],
      "source": [
        "# Save the model\n",
        "model.save(\"fall_detection_model.h5\")"
      ]
    }
  ],
  "metadata": {
    "colab": {
      "provenance": []
    },
    "kernelspec": {
      "display_name": "Python 3",
      "name": "python3"
    },
    "language_info": {
      "name": "python"
    }
  },
  "nbformat": 4,
  "nbformat_minor": 0
}