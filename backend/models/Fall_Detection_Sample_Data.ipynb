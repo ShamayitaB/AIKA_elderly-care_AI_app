{
  "nbformat": 4,
  "nbformat_minor": 0,
  "metadata": {
    "colab": {
      "provenance": []
    },
    "kernelspec": {
      "name": "python3",
      "display_name": "Python 3"
    },
    "language_info": {
      "name": "python"
    }
  },
  "cells": [
    {
      "cell_type": "code",
      "source": [
        "from tensorflow.keras.models import load_model\n",
        "\n",
        "model = load_model(\"/content/fall_detection_model (1).h5\")  # Replace with your filename\n"
      ],
      "metadata": {
        "colab": {
          "base_uri": "https://localhost:8080/"
        },
        "id": "stIVGMncQPQB",
        "outputId": "597ae84d-83cf-4a4f-a375-639e7a414bdb"
      },
      "execution_count": 4,
      "outputs": [
        {
          "output_type": "stream",
          "name": "stderr",
          "text": [
            "WARNING:absl:Compiled the loaded model, but the compiled metrics have yet to be built. `model.compile_metrics` will be empty until you train or evaluate the model.\n"
          ]
        }
      ]
    },
    {
      "cell_type": "code",
      "execution_count": 5,
      "metadata": {
        "id": "0gbQkdCwPMCE"
      },
      "outputs": [],
      "source": [
        "import json\n",
        "import numpy as np\n",
        "\n",
        "# Load sample input from JSON file\n",
        "with open(\"sample_input.json\", \"r\") as f:\n",
        "    data = json.load(f)\n",
        "\n",
        "# Convert to numpy array\n",
        "x_input = np.array(data[\"input\"], dtype=np.float32)\n",
        "\n",
        "# Optional: Normalize if required (depends on your training)\n",
        "x_input = x_input / np.max(np.abs(x_input))  # Same normalization as training\n",
        "\n"
      ]
    },
    {
      "cell_type": "code",
      "source": [
        "prediction = model.predict(x_input)\n",
        "predicted_class = np.argmax(prediction, axis=1)\n",
        "\n",
        "print(\"Predicted class:\", predicted_class)\n"
      ],
      "metadata": {
        "colab": {
          "base_uri": "https://localhost:8080/"
        },
        "id": "Dm1SwMmuQY0n",
        "outputId": "76da1e14-2e6b-47f9-8e31-9f4f696fca84"
      },
      "execution_count": 6,
      "outputs": [
        {
          "output_type": "stream",
          "name": "stdout",
          "text": [
            "\u001b[1m1/1\u001b[0m \u001b[32m━━━━━━━━━━━━━━━━━━━━\u001b[0m\u001b[37m\u001b[0m \u001b[1m0s\u001b[0m 275ms/step\n",
            "Predicted class: [2]\n"
          ]
        }
      ]
    },
    {
      "cell_type": "code",
      "source": [
        "label_map = {\n",
        "    0: \"No Fall\",\n",
        "    1: \"Pre-fall\",\n",
        "    2: \"Fall Detected\"\n",
        "}\n"
      ],
      "metadata": {
        "id": "H58s_5LHQwH0"
      },
      "execution_count": 8,
      "outputs": []
    },
    {
      "cell_type": "code",
      "source": [
        "predicted_class = 2\n",
        "print(\"Prediction:\", label_map[predicted_class])\n"
      ],
      "metadata": {
        "colab": {
          "base_uri": "https://localhost:8080/"
        },
        "id": "0OpSlbcqQtcr",
        "outputId": "9fedec4e-9d82-4ab9-8d12-7e502fe87ab4"
      },
      "execution_count": 9,
      "outputs": [
        {
          "output_type": "stream",
          "name": "stdout",
          "text": [
            "Prediction: Fall Detected\n"
          ]
        }
      ]
    }
  ]
}